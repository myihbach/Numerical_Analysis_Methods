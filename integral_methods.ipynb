{
  "nbformat": 4,
  "nbformat_minor": 0,
  "metadata": {
    "colab": {
      "name": "integral_methods.ipynb",
      "provenance": [],
      "collapsed_sections": [],
      "authorship_tag": "ABX9TyN62pZAMYlr2HEL45uJd2L7",
      "include_colab_link": true
    },
    "kernelspec": {
      "name": "python3",
      "display_name": "Python 3"
    }
  },
  "cells": [
    {
      "cell_type": "markdown",
      "metadata": {
        "id": "view-in-github",
        "colab_type": "text"
      },
      "source": [
        "<a href=\"https://colab.research.google.com/github/myihbach/Numerical_Analysis_Methods/blob/main/integral_methods.ipynb\" target=\"_parent\"><img src=\"https://colab.research.google.com/assets/colab-badge.svg\" alt=\"Open In Colab\"/></a>"
      ]
    },
    {
      "cell_type": "code",
      "metadata": {
        "id": "cw_-WMSWVSXU"
      },
      "source": [
        "import numpy as np"
      ],
      "execution_count": null,
      "outputs": []
    },
    {
      "cell_type": "markdown",
      "metadata": {
        "id": "oidtJeguVXrQ"
      },
      "source": [
        "### **Méthodes de rectangle**"
      ]
    },
    {
      "cell_type": "code",
      "metadata": {
        "colab": {
          "base_uri": "https://localhost:8080/"
        },
        "id": "uXovBBM_VUUn",
        "outputId": "f96320cd-cbe7-495c-a29b-d5ace747f134"
      },
      "source": [
        "def f(x):\n",
        "  x=np.array(x)\n",
        "  return x*x + 1 \n",
        "\n",
        "def rectangle_gauche(a,b,N):\n",
        "  h = (b-a) / N \n",
        "  return h * np.sum(f(np.arange(a,b,h)))\n",
        "\n",
        "def rectangle_droite(a,b,N):\n",
        "  h = (b-a) / N \n",
        "  return h * np.sum(f(np.arange(a+h,b+h,h)))\n",
        "\n",
        "  \n",
        "print('Rectangle gauche : ',rectangle_gauche(1,3,10000))\n",
        "print('Rectangle droite : ',rectangle_droite(1,3,10000))\n",
        "print('la valeur exacte : ',32/3) # valeur exacte de x^2 + 1 entre 1 et 3 \n"
      ],
      "execution_count": null,
      "outputs": [
        {
          "output_type": "stream",
          "text": [
            "Rectangle gauche :  10.665866679998972\n",
            "Rectangle droite :  10.667466679998972\n",
            "la valeur exacte :  10.666666666666666\n"
          ],
          "name": "stdout"
        }
      ]
    },
    {
      "cell_type": "markdown",
      "metadata": {
        "id": "T3x9sMj2YfhH"
      },
      "source": [
        "### **Methode de trapeze**"
      ]
    },
    {
      "cell_type": "code",
      "metadata": {
        "colab": {
          "base_uri": "https://localhost:8080/"
        },
        "id": "SRgW1GVXYchj",
        "outputId": "a4129a19-235e-448d-c99f-d37571a2bbc8"
      },
      "source": [
        " def trapeze(a,b,N):\n",
        "   h = (b-a) / N \n",
        "   return ( h/2 ) *( f(a)+ 2* np.sum(f(np.arange(a+h,b,h))) + f(b))\n",
        "\n",
        "  \n",
        "print('Methode de Trapere : ',trapeze(1,3,10000))\n",
        "print('La valeur exacte   : ',32/3) # valeur exacte entre 1 et 3 "
      ],
      "execution_count": null,
      "outputs": [
        {
          "output_type": "stream",
          "text": [
            "Methode de Trapere :  10.666666679998972\n",
            "La valeur exacte   :  10.666666666666666\n"
          ],
          "name": "stdout"
        }
      ]
    },
    {
      "cell_type": "markdown",
      "metadata": {
        "id": "O9IRby0IZEiN"
      },
      "source": [
        "### **Methode de simpson**"
      ]
    },
    {
      "cell_type": "code",
      "metadata": {
        "colab": {
          "base_uri": "https://localhost:8080/"
        },
        "id": "xuDheHl6ZHSA",
        "outputId": "50f005fb-e8b5-4b58-bc30-ac8aa2aacc0f"
      },
      "source": [
        "def simpson(a,b,N):\n",
        "  h = (b-a) / N\n",
        "  return (h/6) *( f(a) + f(b) + 2 * np.sum(f(np.arange(a+h,b,h))) + 4 * sum(f(np.arange(a+ h/2,b,h))) )\n",
        "\n",
        "print('Methode de Simpson : ',simpson(1,3,10000))\n",
        "print('La valeur exacte  : ',32/3) # valeur exacte entre 1 et 3 "
      ],
      "execution_count": null,
      "outputs": [
        {
          "output_type": "stream",
          "text": [
            "Methode de Simpson :  10.666666666665636\n",
            "La valeur exacte  :  10.666666666666666\n"
          ],
          "name": "stdout"
        }
      ]
    }
  ]
}