{
  "nbformat": 4,
  "nbformat_minor": 0,
  "metadata": {
    "colab": {
      "name": "Differential_equations.ipynb",
      "provenance": [],
      "collapsed_sections": [],
      "authorship_tag": "ABX9TyP9yZiOOTGHEowFCjKp4G0i",
      "include_colab_link": true
    },
    "kernelspec": {
      "name": "python3",
      "display_name": "Python 3"
    }
  },
  "cells": [
    {
      "cell_type": "markdown",
      "metadata": {
        "id": "view-in-github",
        "colab_type": "text"
      },
      "source": [
        "<a href=\"https://colab.research.google.com/github/myihbach/Numerical_Analysis_Methods/blob/main/Differential_equations.ipynb\" target=\"_parent\"><img src=\"https://colab.research.google.com/assets/colab-badge.svg\" alt=\"Open In Colab\"/></a>"
      ]
    },
    {
      "cell_type": "code",
      "metadata": {
        "id": "Z6Kwz6Qb7JSU"
      },
      "source": [
        "import numpy as np \n",
        "import matplotlib.pyplot as plt"
      ],
      "execution_count": null,
      "outputs": []
    },
    {
      "cell_type": "code",
      "metadata": {
        "id": "ZsMp806z7ohn"
      },
      "source": [
        "# Y'(t) = cos(t)  => solution est sin(t) \n",
        "def f(t,y):\n",
        "  return np.cos(t) #definition de la fonction f(t,y(t))\n"
      ],
      "execution_count": null,
      "outputs": []
    },
    {
      "cell_type": "markdown",
      "metadata": {
        "id": "3aMq-7FSCCUk"
      },
      "source": [
        "### **Méthode d'euler**"
      ]
    },
    {
      "cell_type": "code",
      "metadata": {
        "id": "p_3X1VmJ7gFQ"
      },
      "source": [
        "def euler(a,b,N):\n",
        "  y=[0]\n",
        "  h = (b-a) / N\n",
        "  x = np.arange(a ,b+ h , h)\n",
        "  for i in range(1,len(x)):\n",
        "    y.append(y[i-1]+ h * f(x[i-1],y[i-1]))\n",
        "  y=np.array(y)\n",
        "  return y\n",
        "  \n"
      ],
      "execution_count": null,
      "outputs": []
    },
    {
      "cell_type": "markdown",
      "metadata": {
        "id": "2-7rEW0-Cslh"
      },
      "source": [
        "##Methode d'Euler modifier\n"
      ]
    },
    {
      "cell_type": "code",
      "metadata": {
        "id": "sCKXq4s7SUDw"
      },
      "source": [
        "def euler_modifier(a,b,N):\n",
        "  y=[0]\n",
        "  h = (b-a) / N\n",
        "  x = np.arange(a,b+ h , h)\n",
        "  for i in range(1,len(x)):\n",
        "    k1 = f(x[i-1],y[i-1])\n",
        "    k2 = f(x[i-1]+ h / 2 ,y[i-1] + k1 * h / 2 )\n",
        "    y.append(y[i-1]+ h * k2)\n",
        "  y=np.array(y)\n",
        "  return y \n",
        "  \n",
        "  \n"
      ],
      "execution_count": null,
      "outputs": []
    },
    {
      "cell_type": "markdown",
      "metadata": {
        "id": "4YYFky0HDNf5"
      },
      "source": [
        "## Methode de HEUN\r\n",
        "\r\n",
        "*   Élément de liste\r\n",
        "\r\n",
        "*   Élément de liste\r\n",
        "*   Élément de liste\r\n",
        "\r\n",
        "\r\n",
        "*   Élément de liste\r\n",
        "\r\n"
      ]
    },
    {
      "cell_type": "code",
      "metadata": {
        "id": "w87qSM_HDP-l"
      },
      "source": [
        "def heun(a,b,N):\r\n",
        "  y=[0]\r\n",
        "  h = (b-a) / N\r\n",
        "  x = np.arange(a,b+ h , h)\r\n",
        "  for i in range(1,len(x)):\r\n",
        "    k1 = f(x[i-1],y[i-1])\r\n",
        "    k2 = f(x[i-1]+ h  ,y[i-1] + k1 * h )\r\n",
        "    y.append(y[i-1]+ ( h / 2 ) * ( k1 + k2 ))\r\n",
        "  y=np.array(y)\r\n",
        "  return y \r\n",
        "  "
      ],
      "execution_count": null,
      "outputs": []
    },
    {
      "cell_type": "code",
      "metadata": {
        "colab": {
          "base_uri": "https://localhost:8080/",
          "height": 265
        },
        "id": "8AWBUUH9Cf_X",
        "outputId": "372a929c-e8e3-4e6e-bde0-b696fb225330"
      },
      "source": [
        "a,b,N= 0,2*np.pi,15\r\n",
        "h = (b-a) / N \r\n",
        "x = np.arange(a,b+h,h)\r\n",
        "plt.plot(x,euler(a,b,N),'r',label='Euler')\r\n",
        "plt.plot(x,euler_modifier(a,b,N),'g',label='Euler modifier')\r\n",
        "plt.plot(x,heun(a,b,N),'b',label='Heun')\r\n",
        "plt.plot(x,np.sin(x),'K',label='solution exacte')\r\n",
        "plt.legend()\r\n",
        "plt.grid()\r\n",
        "plt.show()"
      ],
      "execution_count": null,
      "outputs": [
        {
          "output_type": "display_data",
          "data": {
            "image/png": "[encoded data removed]",
            "text/plain": [
              "<Figure size 432x288 with 1 Axes>"
            ]
          },
          "metadata": {
            "tags": [],
            "needs_background": "light"
          }
        }
      ]
    }
  ]
}